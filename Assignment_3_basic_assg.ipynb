{
 "cells": [
  {
   "cell_type": "markdown",
   "id": "29a2b97f",
   "metadata": {},
   "source": [
    "1. Why are functions advantageous to have in your programs?\n",
    "Ans- Having function in your program help to make it in more structured way, and help avoiding rewrite of code,as same code can be called using function.\n",
    "\n",
    "2. When does the code in a function run: when it's specified or when it's called?\n",
    "Ans- A code in function runs only when it is called, otherwise it won't get triggered.\n",
    "\n",
    "3. What statement creates a function?\n",
    "Ans- To create a function we use keyword \"def\" and function name, with paramters to be passed.\n",
    "\n",
    "4. What is the difference between a function and a function call?\n",
    "ans - A function is a collection of code which will run only when the function is called. Function call is to trigger the function to run in specific line program\n",
    "\n",
    "5. How many global scopes are there in a Python program? How many local scopes?\n",
    "ans- There is only one Global scope in Python program, this scope remain in program until it is terminated.\n",
    "There are 4 scope, local, enclosing, global, and built-in. At the moment there are 2 scope in active Global and build -in.\n",
    "\n",
    "6. What happens to variables in a local scope when the function call returns?\n",
    "Ans, As execution of function is terminated the variable in local scope is distroyed.\n",
    "\n",
    "7. What is the concept of a return value? Is it possible to have a return value in an expression?\n",
    "Ans. When ever function get terminated it return some value it can be null, int or string.\n",
    "\n",
    "8. If a function does not have a return statement, what is the return value of a call to that function?\n",
    "ans None\n",
    "\n",
    "9. How do you make a function variable refer to the global variable?\n",
    "ANS- We can use Global keyword to declare which variabel is global.\n",
    "\n",
    "10. What is the data type of None?\n",
    "NoneType\n",
    "\n",
    "11. What does the sentence import areallyourpetsnamederic do?\n",
    "ans It will import libraries name areallyoupetnamederic.\n",
    "\n",
    "12. If you had a bacon() feature in a spam module, what would you call it after importing spam?\n",
    "ans This function can be called with spam.bacon().\n",
    "\n",
    "13. What can you do to save a programme from crashing if it encounters an error?\n",
    "ans We can use Try catch block to avoid program from getting crash.\n",
    "\n",
    "14. What is the purpose of the try clause? What is the purpose of the except clause?\n",
    "ans. In the try clause, all statements are executed until an exception is encountered. except is used to catch and handle the exception(s) that are encountered in the try clause."
   ]
  }
 ],
 "metadata": {
  "kernelspec": {
   "display_name": "Python 3 (ipykernel)",
   "language": "python",
   "name": "python3"
  },
  "language_info": {
   "codemirror_mode": {
    "name": "ipython",
    "version": 3
   },
   "file_extension": ".py",
   "mimetype": "text/x-python",
   "name": "python",
   "nbconvert_exporter": "python",
   "pygments_lexer": "ipython3",
   "version": "3.9.12"
  }
 },
 "nbformat": 4,
 "nbformat_minor": 5
}
